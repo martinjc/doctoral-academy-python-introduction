{
 "cells": [
  {
   "cell_type": "markdown",
   "metadata": {},
   "source": [
    "# Introduction to Programming #\n",
    "\n",
    "## Exercises ##\n",
    "\n",
    "You should try to complete these exercises during the class, and do not be afraid to try to change the code further and explore what Python can do. If you need help - ask!"
   ]
  },
  {
   "cell_type": "markdown",
   "metadata": {},
   "source": [
    "### Operators and Math\n",
    "\n",
    "1. Can you use mathematical operators in Python to work out how many seconds in total there are in 4 hours, 17 minutes and 33 seconds?"
   ]
  },
  {
   "cell_type": "code",
   "execution_count": null,
   "metadata": {},
   "outputs": [],
   "source": []
  },
  {
   "cell_type": "markdown",
   "metadata": {},
   "source": [
    "2. Replace each occurrence of ??? in the following code so that it converts the number of seconds (8412) to hours, minutes and seconds"
   ]
  },
  {
   "cell_type": "code",
   "execution_count": null,
   "metadata": {},
   "outputs": [],
   "source": [
    "totalSeconds = 8412\n",
    "seconds = totalSeconds ??? 60\n",
    "totalMinutes = totalSeconds ??? 60\n",
    "minutes = ???\n",
    "hours = ???\n",
    "print(int(hours), int(minutes), seconds)"
   ]
  },
  {
   "cell_type": "markdown",
   "metadata": {},
   "source": [
    "### Strings and Formatting\n",
    "\n",
    "1.\tCreate a string variable in Python that holds the text “The quick brown fox jumps over the lazy dog"
   ]
  },
  {
   "cell_type": "code",
   "execution_count": null,
   "metadata": {},
   "outputs": [],
   "source": []
  },
  {
   "cell_type": "markdown",
   "metadata": {},
   "source": [
    "1. \n",
    "  a. Write Python code to find the index of the substring “the” within this text"
   ]
  },
  {
   "cell_type": "code",
   "execution_count": null,
   "metadata": {},
   "outputs": [],
   "source": []
  },
  {
   "cell_type": "markdown",
   "metadata": {},
   "source": [
    "1. b.\tWrite Python code to replace the substring “dog” with “cat” in your original string variable"
   ]
  },
  {
   "cell_type": "code",
   "execution_count": null,
   "metadata": {},
   "outputs": [],
   "source": []
  },
  {
   "cell_type": "markdown",
   "metadata": {},
   "source": [
    "2.\tThe following code will print out a floating point value. Run the code and see what it does:"
   ]
  },
  {
   "cell_type": "code",
   "execution_count": 2,
   "metadata": {},
   "outputs": [
    {
     "name": "stdout",
     "output_type": "stream",
     "text": [
      "the value of d is 50506.212453\n"
     ]
    }
   ],
   "source": [
    "d = 50506.21245324564235563\n",
    "print(\"the value of d is %f\" % d)"
   ]
  },
  {
   "cell_type": "markdown",
   "metadata": {},
   "source": [
    "2. a.\tCopy and modify the code so that %f is replaced by ‘%.2f’. What does it do?"
   ]
  },
  {
   "cell_type": "code",
   "execution_count": null,
   "metadata": {},
   "outputs": [],
   "source": []
  },
  {
   "cell_type": "markdown",
   "metadata": {},
   "source": [
    "2. \n",
    "  b.\tCopy and modify the code to see the effects of the following formatting options:\n",
    "  \n",
    "    i.\t%f\n",
    "  \n",
    "    ii.\t%d\n",
    "  \n",
    "    iii.\t%.5f\n",
    "  \n",
    "    iv.\t%x\n"
   ]
  },
  {
   "cell_type": "code",
   "execution_count": null,
   "metadata": {},
   "outputs": [],
   "source": []
  },
  {
   "cell_type": "markdown",
   "metadata": {},
   "source": [
    "### Lists\n",
    "\n",
    "1.\tWrite Python code that does the following:\n",
    "\n",
    "  a.\tCreate a list containing the strings “football”, “rugby”, “hockey” and “tennis”\n",
    "  \n",
    "  b.\tPrint the first and last elements of the list\n",
    "  \n",
    "  c.\tAdd the element “cycling” to the end of the list\n",
    "  \n",
    "  d.\tPrint how many elements the list has\n",
    "  \n",
    "  e.\tPrint the first letter of each element of the list\n",
    "  \n",
    "  f.\tRemove the element “football”\n",
    "  \n",
    "  g.\tCreate a new list containing the middle two elements of the current list\n",
    "  \n"
   ]
  },
  {
   "cell_type": "code",
   "execution_count": null,
   "metadata": {},
   "outputs": [],
   "source": []
  },
  {
   "cell_type": "markdown",
   "metadata": {},
   "source": [
    "2. Run the following code. What is the difference between `pop()` and `remove()`?"
   ]
  },
  {
   "cell_type": "code",
   "execution_count": 5,
   "metadata": {},
   "outputs": [],
   "source": [
    "x = [1, 2, 3, 4]\n",
    "x.pop(3)\n",
    "x.remove(3)"
   ]
  },
  {
   "cell_type": "markdown",
   "metadata": {},
   "source": [
    "### Iteration & If/Else\n",
    "\n",
    "1.\tWrite a loop that examines each character of the string “5gf29k” individually, one at a time. If the character is a letter, it should be printed out in uppercase. If it is a number, the square root of that number should be printed."
   ]
  },
  {
   "cell_type": "code",
   "execution_count": null,
   "metadata": {},
   "outputs": [],
   "source": []
  },
  {
   "cell_type": "markdown",
   "metadata": {},
   "source": [
    "### Dictionaries\n",
    "\n",
    "1. Run the following code and examine the output"
   ]
  },
  {
   "cell_type": "code",
   "execution_count": 6,
   "metadata": {},
   "outputs": [
    {
     "name": "stdout",
     "output_type": "stream",
     "text": [
      "{'Tom': 500, 'Stuart': 1000, 'Rob': 55, 'Dave': 2127}\n",
      "dict_keys(['Tom', 'Stuart', 'Rob', 'Dave'])\n",
      "dict_values([500, 1000, 55, 2127])\n"
     ]
    }
   ],
   "source": [
    "d={\"Tom\": 500, \"Stuart\": 1000, \"Rob\": 55, \"Dave\": 2127}\n",
    "print(d)\n",
    "print(d.keys())\n",
    "print(d.values())"
   ]
  },
  {
   "cell_type": "markdown",
   "metadata": {},
   "source": [
    "2.\tWhat does the dictionary function items() do?"
   ]
  },
  {
   "cell_type": "code",
   "execution_count": null,
   "metadata": {},
   "outputs": [],
   "source": []
  },
  {
   "cell_type": "markdown",
   "metadata": {},
   "source": [
    "3.\tCompare the differences between the output from the following two pieces of code:"
   ]
  },
  {
   "cell_type": "code",
   "execution_count": 7,
   "metadata": {},
   "outputs": [
    {
     "name": "stdout",
     "output_type": "stream",
     "text": [
      "Tom 500\n",
      "Stuart 1000\n",
      "Rob 55\n",
      "Dave 2127\n"
     ]
    }
   ],
   "source": [
    "for key, value in d.items():\n",
    "    print(key, value)"
   ]
  },
  {
   "cell_type": "code",
   "execution_count": 8,
   "metadata": {},
   "outputs": [
    {
     "name": "stdout",
     "output_type": "stream",
     "text": [
      "Tom\n",
      "Stuart\n",
      "Rob\n",
      "Dave\n"
     ]
    }
   ],
   "source": [
    "for i in d:\n",
    "    print(i)"
   ]
  },
  {
   "cell_type": "markdown",
   "metadata": {},
   "source": [
    "4.\tWe can check if items are present in a dictionary. Run the following lines of code and see if the answers are what you expect:"
   ]
  },
  {
   "cell_type": "code",
   "execution_count": 9,
   "metadata": {},
   "outputs": [
    {
     "data": {
      "text/plain": [
       "True"
      ]
     },
     "execution_count": 9,
     "metadata": {},
     "output_type": "execute_result"
    }
   ],
   "source": [
    "\"Tom\" in d"
   ]
  },
  {
   "cell_type": "code",
   "execution_count": 10,
   "metadata": {},
   "outputs": [
    {
     "data": {
      "text/plain": [
       "False"
      ]
     },
     "execution_count": 10,
     "metadata": {},
     "output_type": "execute_result"
    }
   ],
   "source": [
    "\"Peter\" in d"
   ]
  },
  {
   "cell_type": "code",
   "execution_count": 11,
   "metadata": {},
   "outputs": [
    {
     "data": {
      "text/plain": [
       "False"
      ]
     },
     "execution_count": 11,
     "metadata": {},
     "output_type": "execute_result"
    }
   ],
   "source": [
    "500 in d"
   ]
  },
  {
   "cell_type": "markdown",
   "metadata": {},
   "source": [
    "### Files\n",
    "\n",
    "1 Use the code below to read a file into Python and print its contents:"
   ]
  },
  {
   "cell_type": "code",
   "execution_count": 12,
   "metadata": {},
   "outputs": [
    {
     "name": "stdout",
     "output_type": "stream",
     "text": [
      "Wigan Athletic\n",
      "Blackburn Rovers\n",
      "Shrewsbury Town\n",
      "Rotherham United\n",
      "Scunthorpe United\n",
      "Charlton Athletic\n",
      "Plymouth Argyle\n",
      "Portsmouth\n",
      "Peterborough United\n",
      "Southend United\n",
      "Bradford City\n",
      "Blackpool\n",
      "Bristol Rovers\n",
      "Fleetwood Town\n",
      "Doncaster Rovers\n",
      "Oxford United\n",
      "Gillingham\n",
      "AFC Wimbledon\n",
      "Walsall\n",
      "Rochdale\n",
      "Oldham Athletic\n",
      "Northampton Town\n",
      "MK Dons\n",
      "Bury\n",
      "\n"
     ]
    }
   ],
   "source": [
    "in_file = open(\"leagueone.txt\", \"r\")\n",
    "data = in_file.read()\n",
    "print(data)\n",
    "in_file.close()"
   ]
  },
  {
   "cell_type": "markdown",
   "metadata": {},
   "source": [
    "2.\tThere are several different ways to read a file into Python. Experiment with each of the following and see what they do. You will need to open the file before running each command, and close it afterwards"
   ]
  },
  {
   "cell_type": "code",
   "execution_count": 13,
   "metadata": {},
   "outputs": [
    {
     "name": "stdout",
     "output_type": "stream",
     "text": [
      "Wigan Athletic\n",
      "\n"
     ]
    }
   ],
   "source": [
    "in_file = open(\"leagueone.txt\", \"r\")\n",
    "data = in_file.readline()\n",
    "print(data)\n",
    "in_file.close()"
   ]
  },
  {
   "cell_type": "code",
   "execution_count": 14,
   "metadata": {},
   "outputs": [
    {
     "name": "stdout",
     "output_type": "stream",
     "text": [
      "['Wigan Athletic\\n', 'Blackburn Rovers\\n', 'Shrewsbury Town\\n', 'Rotherham United\\n', 'Scunthorpe United\\n', 'Charlton Athletic\\n', 'Plymouth Argyle\\n', 'Portsmouth\\n', 'Peterborough United\\n', 'Southend United\\n', 'Bradford City\\n', 'Blackpool\\n', 'Bristol Rovers\\n', 'Fleetwood Town\\n', 'Doncaster Rovers\\n', 'Oxford United\\n', 'Gillingham\\n', 'AFC Wimbledon\\n', 'Walsall\\n', 'Rochdale\\n', 'Oldham Athletic\\n', 'Northampton Town\\n', 'MK Dons\\n', 'Bury\\n']\n"
     ]
    }
   ],
   "source": [
    "in_file = open(\"leagueone.txt\", \"r\")\n",
    "data = in_file.readlines()\n",
    "print(data)\n",
    "in_file.close()"
   ]
  },
  {
   "cell_type": "markdown",
   "metadata": {},
   "source": [
    "3.\tUsing the code above and what you know about lists, write some code that opens the file leagueone.txt, reads the teams listed into an array, sorts the teams alphabetically, then prints the teams out in alphabetical order."
   ]
  },
  {
   "cell_type": "code",
   "execution_count": null,
   "metadata": {},
   "outputs": [],
   "source": []
  },
  {
   "cell_type": "markdown",
   "metadata": {},
   "source": [
    "### More Advanced\n",
    "\n",
    "1.\tWrite a piece of code that will open a file, read its contents, and count the number of times each letter of the alphabet appears in the file.  It should store this result in a dictionary, and when it has finished counting, print the results to screen\n",
    "2.\tSeparate this code up into different functions. For example, you may want a function that opens and reads the contents of a file, and another for output, etc…"
   ]
  },
  {
   "cell_type": "code",
   "execution_count": null,
   "metadata": {},
   "outputs": [],
   "source": []
  }
 ],
 "metadata": {
  "kernelspec": {
   "display_name": "Python 3",
   "language": "python",
   "name": "python3"
  },
  "language_info": {
   "codemirror_mode": {
    "name": "ipython",
    "version": 3
   },
   "file_extension": ".py",
   "mimetype": "text/x-python",
   "name": "python",
   "nbconvert_exporter": "python",
   "pygments_lexer": "ipython3",
   "version": "3.6.5"
  }
 },
 "nbformat": 4,
 "nbformat_minor": 2
}
